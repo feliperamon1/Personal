{
  "nbformat": 4,
  "nbformat_minor": 0,
  "metadata": {
    "colab": {
      "provenance": [],
      "name": "act2_ibero_Experta_busquedasistemasbasadosenreglas.ipynb",
      "include_colab_link": true
    },
    "kernelspec": {
      "name": "python3",
      "display_name": "Python 3"
    },
    "language_info": {
      "name": "python"
    },
    "widgets": {
      "application/vnd.jupyter.widget-state+json": {
        "d62f5d8ff1894ef8821ec733f1421f85": {
          "model_module": "@jupyter-widgets/controls",
          "model_name": "DropdownModel",
          "model_module_version": "1.5.0",
          "state": {
            "_dom_classes": [],
            "_model_module": "@jupyter-widgets/controls",
            "_model_module_version": "1.5.0",
            "_model_name": "DropdownModel",
            "_options_labels": [
              "Estación A",
              "Estación B",
              "Estación C",
              "Estación D"
            ],
            "_view_count": null,
            "_view_module": "@jupyter-widgets/controls",
            "_view_module_version": "1.5.0",
            "_view_name": "DropdownView",
            "description": "Origen:",
            "description_tooltip": null,
            "disabled": false,
            "index": 0,
            "layout": "IPY_MODEL_a470224bf5de4be9abea01b8db3d687c",
            "style": "IPY_MODEL_ae8c5c7ba7df44138562c0da8664c710"
          }
        },
        "a470224bf5de4be9abea01b8db3d687c": {
          "model_module": "@jupyter-widgets/base",
          "model_name": "LayoutModel",
          "model_module_version": "1.2.0",
          "state": {
            "_model_module": "@jupyter-widgets/base",
            "_model_module_version": "1.2.0",
            "_model_name": "LayoutModel",
            "_view_count": null,
            "_view_module": "@jupyter-widgets/base",
            "_view_module_version": "1.2.0",
            "_view_name": "LayoutView",
            "align_content": null,
            "align_items": null,
            "align_self": null,
            "border": null,
            "bottom": null,
            "display": null,
            "flex": null,
            "flex_flow": null,
            "grid_area": null,
            "grid_auto_columns": null,
            "grid_auto_flow": null,
            "grid_auto_rows": null,
            "grid_column": null,
            "grid_gap": null,
            "grid_row": null,
            "grid_template_areas": null,
            "grid_template_columns": null,
            "grid_template_rows": null,
            "height": null,
            "justify_content": null,
            "justify_items": null,
            "left": null,
            "margin": null,
            "max_height": null,
            "max_width": null,
            "min_height": null,
            "min_width": null,
            "object_fit": null,
            "object_position": null,
            "order": null,
            "overflow": null,
            "overflow_x": null,
            "overflow_y": null,
            "padding": null,
            "right": null,
            "top": null,
            "visibility": null,
            "width": null
          }
        },
        "ae8c5c7ba7df44138562c0da8664c710": {
          "model_module": "@jupyter-widgets/controls",
          "model_name": "DescriptionStyleModel",
          "model_module_version": "1.5.0",
          "state": {
            "_model_module": "@jupyter-widgets/controls",
            "_model_module_version": "1.5.0",
            "_model_name": "DescriptionStyleModel",
            "_view_count": null,
            "_view_module": "@jupyter-widgets/base",
            "_view_module_version": "1.2.0",
            "_view_name": "StyleView",
            "description_width": ""
          }
        },
        "01203144ba59454e81639c6049a64a01": {
          "model_module": "@jupyter-widgets/controls",
          "model_name": "DropdownModel",
          "model_module_version": "1.5.0",
          "state": {
            "_dom_classes": [],
            "_model_module": "@jupyter-widgets/controls",
            "_model_module_version": "1.5.0",
            "_model_name": "DropdownModel",
            "_options_labels": [
              "Estación B",
              "Estación C",
              "Estación D",
              "Estación E"
            ],
            "_view_count": null,
            "_view_module": "@jupyter-widgets/controls",
            "_view_module_version": "1.5.0",
            "_view_name": "DropdownView",
            "description": "Destino:",
            "description_tooltip": null,
            "disabled": false,
            "index": 2,
            "layout": "IPY_MODEL_c107919fadce4007be5f860fe4dbf4f4",
            "style": "IPY_MODEL_b3c482ccb78b4bb19271ffdcd2363598"
          }
        },
        "c107919fadce4007be5f860fe4dbf4f4": {
          "model_module": "@jupyter-widgets/base",
          "model_name": "LayoutModel",
          "model_module_version": "1.2.0",
          "state": {
            "_model_module": "@jupyter-widgets/base",
            "_model_module_version": "1.2.0",
            "_model_name": "LayoutModel",
            "_view_count": null,
            "_view_module": "@jupyter-widgets/base",
            "_view_module_version": "1.2.0",
            "_view_name": "LayoutView",
            "align_content": null,
            "align_items": null,
            "align_self": null,
            "border": null,
            "bottom": null,
            "display": null,
            "flex": null,
            "flex_flow": null,
            "grid_area": null,
            "grid_auto_columns": null,
            "grid_auto_flow": null,
            "grid_auto_rows": null,
            "grid_column": null,
            "grid_gap": null,
            "grid_row": null,
            "grid_template_areas": null,
            "grid_template_columns": null,
            "grid_template_rows": null,
            "height": null,
            "justify_content": null,
            "justify_items": null,
            "left": null,
            "margin": null,
            "max_height": null,
            "max_width": null,
            "min_height": null,
            "min_width": null,
            "object_fit": null,
            "object_position": null,
            "order": null,
            "overflow": null,
            "overflow_x": null,
            "overflow_y": null,
            "padding": null,
            "right": null,
            "top": null,
            "visibility": null,
            "width": null
          }
        },
        "b3c482ccb78b4bb19271ffdcd2363598": {
          "model_module": "@jupyter-widgets/controls",
          "model_name": "DescriptionStyleModel",
          "model_module_version": "1.5.0",
          "state": {
            "_model_module": "@jupyter-widgets/controls",
            "_model_module_version": "1.5.0",
            "_model_name": "DescriptionStyleModel",
            "_view_count": null,
            "_view_module": "@jupyter-widgets/base",
            "_view_module_version": "1.2.0",
            "_view_name": "StyleView",
            "description_width": ""
          }
        },
        "67e39f866ae8418581948689fd5e762b": {
          "model_module": "@jupyter-widgets/controls",
          "model_name": "DropdownModel",
          "model_module_version": "1.5.0",
          "state": {
            "_dom_classes": [],
            "_model_module": "@jupyter-widgets/controls",
            "_model_module_version": "1.5.0",
            "_model_name": "DropdownModel",
            "_options_labels": [
              "Tiempo_min",
              "Costo_COP"
            ],
            "_view_count": null,
            "_view_module": "@jupyter-widgets/controls",
            "_view_module_version": "1.5.0",
            "_view_name": "DropdownView",
            "description": "Criterio:",
            "description_tooltip": null,
            "disabled": false,
            "index": 0,
            "layout": "IPY_MODEL_5bdb7e5c63bc43b68742864f7cda6014",
            "style": "IPY_MODEL_260dab9c59974198bef5f5b446fa938f"
          }
        },
        "5bdb7e5c63bc43b68742864f7cda6014": {
          "model_module": "@jupyter-widgets/base",
          "model_name": "LayoutModel",
          "model_module_version": "1.2.0",
          "state": {
            "_model_module": "@jupyter-widgets/base",
            "_model_module_version": "1.2.0",
            "_model_name": "LayoutModel",
            "_view_count": null,
            "_view_module": "@jupyter-widgets/base",
            "_view_module_version": "1.2.0",
            "_view_name": "LayoutView",
            "align_content": null,
            "align_items": null,
            "align_self": null,
            "border": null,
            "bottom": null,
            "display": null,
            "flex": null,
            "flex_flow": null,
            "grid_area": null,
            "grid_auto_columns": null,
            "grid_auto_flow": null,
            "grid_auto_rows": null,
            "grid_column": null,
            "grid_gap": null,
            "grid_row": null,
            "grid_template_areas": null,
            "grid_template_columns": null,
            "grid_template_rows": null,
            "height": null,
            "justify_content": null,
            "justify_items": null,
            "left": null,
            "margin": null,
            "max_height": null,
            "max_width": null,
            "min_height": null,
            "min_width": null,
            "object_fit": null,
            "object_position": null,
            "order": null,
            "overflow": null,
            "overflow_x": null,
            "overflow_y": null,
            "padding": null,
            "right": null,
            "top": null,
            "visibility": null,
            "width": null
          }
        },
        "260dab9c59974198bef5f5b446fa938f": {
          "model_module": "@jupyter-widgets/controls",
          "model_name": "DescriptionStyleModel",
          "model_module_version": "1.5.0",
          "state": {
            "_model_module": "@jupyter-widgets/controls",
            "_model_module_version": "1.5.0",
            "_model_name": "DescriptionStyleModel",
            "_view_count": null,
            "_view_module": "@jupyter-widgets/base",
            "_view_module_version": "1.2.0",
            "_view_name": "StyleView",
            "description_width": ""
          }
        },
        "e40a19910eb64326ac2bfba376e2333f": {
          "model_module": "@jupyter-widgets/controls",
          "model_name": "ButtonModel",
          "model_module_version": "1.5.0",
          "state": {
            "_dom_classes": [],
            "_model_module": "@jupyter-widgets/controls",
            "_model_module_version": "1.5.0",
            "_model_name": "ButtonModel",
            "_view_count": null,
            "_view_module": "@jupyter-widgets/controls",
            "_view_module_version": "1.5.0",
            "_view_name": "ButtonView",
            "button_style": "",
            "description": "Buscar Ruta",
            "disabled": false,
            "icon": "",
            "layout": "IPY_MODEL_22334671160c4b00823a1ace98d71aa5",
            "style": "IPY_MODEL_6e805f1f9b6a4b29b2f0ba9e58dfd150",
            "tooltip": ""
          }
        },
        "22334671160c4b00823a1ace98d71aa5": {
          "model_module": "@jupyter-widgets/base",
          "model_name": "LayoutModel",
          "model_module_version": "1.2.0",
          "state": {
            "_model_module": "@jupyter-widgets/base",
            "_model_module_version": "1.2.0",
            "_model_name": "LayoutModel",
            "_view_count": null,
            "_view_module": "@jupyter-widgets/base",
            "_view_module_version": "1.2.0",
            "_view_name": "LayoutView",
            "align_content": null,
            "align_items": null,
            "align_self": null,
            "border": null,
            "bottom": null,
            "display": null,
            "flex": null,
            "flex_flow": null,
            "grid_area": null,
            "grid_auto_columns": null,
            "grid_auto_flow": null,
            "grid_auto_rows": null,
            "grid_column": null,
            "grid_gap": null,
            "grid_row": null,
            "grid_template_areas": null,
            "grid_template_columns": null,
            "grid_template_rows": null,
            "height": null,
            "justify_content": null,
            "justify_items": null,
            "left": null,
            "margin": null,
            "max_height": null,
            "max_width": null,
            "min_height": null,
            "min_width": null,
            "object_fit": null,
            "object_position": null,
            "order": null,
            "overflow": null,
            "overflow_x": null,
            "overflow_y": null,
            "padding": null,
            "right": null,
            "top": null,
            "visibility": null,
            "width": null
          }
        },
        "6e805f1f9b6a4b29b2f0ba9e58dfd150": {
          "model_module": "@jupyter-widgets/controls",
          "model_name": "ButtonStyleModel",
          "model_module_version": "1.5.0",
          "state": {
            "_model_module": "@jupyter-widgets/controls",
            "_model_module_version": "1.5.0",
            "_model_name": "ButtonStyleModel",
            "_view_count": null,
            "_view_module": "@jupyter-widgets/base",
            "_view_module_version": "1.2.0",
            "_view_name": "StyleView",
            "button_color": null,
            "font_weight": ""
          }
        },
        "0d907512a6a1435dace505209688bf9e": {
          "model_module": "@jupyter-widgets/output",
          "model_name": "OutputModel",
          "model_module_version": "1.0.0",
          "state": {
            "_dom_classes": [],
            "_model_module": "@jupyter-widgets/output",
            "_model_module_version": "1.0.0",
            "_model_name": "OutputModel",
            "_view_count": null,
            "_view_module": "@jupyter-widgets/output",
            "_view_module_version": "1.0.0",
            "_view_name": "OutputView",
            "layout": "IPY_MODEL_ea58bbe35be94a6491cad130c5937a10",
            "msg_id": "",
            "outputs": [
              {
                "output_type": "stream",
                "name": "stdout",
                "text": [
                  "Mejor ruta: Estación A -> Estación B -> Estación D\n",
                  "Peso total (Tiempo_min): 40\n"
                ]
              }
            ]
          }
        },
        "ea58bbe35be94a6491cad130c5937a10": {
          "model_module": "@jupyter-widgets/base",
          "model_name": "LayoutModel",
          "model_module_version": "1.2.0",
          "state": {
            "_model_module": "@jupyter-widgets/base",
            "_model_module_version": "1.2.0",
            "_model_name": "LayoutModel",
            "_view_count": null,
            "_view_module": "@jupyter-widgets/base",
            "_view_module_version": "1.2.0",
            "_view_name": "LayoutView",
            "align_content": null,
            "align_items": null,
            "align_self": null,
            "border": null,
            "bottom": null,
            "display": null,
            "flex": null,
            "flex_flow": null,
            "grid_area": null,
            "grid_auto_columns": null,
            "grid_auto_flow": null,
            "grid_auto_rows": null,
            "grid_column": null,
            "grid_gap": null,
            "grid_row": null,
            "grid_template_areas": null,
            "grid_template_columns": null,
            "grid_template_rows": null,
            "height": null,
            "justify_content": null,
            "justify_items": null,
            "left": null,
            "margin": null,
            "max_height": null,
            "max_width": null,
            "min_height": null,
            "min_width": null,
            "object_fit": null,
            "object_position": null,
            "order": null,
            "overflow": null,
            "overflow_x": null,
            "overflow_y": null,
            "padding": null,
            "right": null,
            "top": null,
            "visibility": null,
            "width": null
          }
        }
      }
    }
  },
  "cells": [
    {
      "cell_type": "markdown",
      "metadata": {
        "id": "view-in-github",
        "colab_type": "text"
      },
      "source": [
        "<a href=\"https://colab.research.google.com/github/feliperamon1/Personal/blob/main/act2_ibero_Experta_busquedasistemasbasadosenreglas.ipynb\" target=\"_parent\"><img src=\"https://colab.research.google.com/assets/colab-badge.svg\" alt=\"Open In Colab\"/></a>"
      ]
    },
    {
      "cell_type": "markdown",
      "source": [
        "## Actividad 2 - Búsqueda y sistemas basados en reglas"
      ],
      "metadata": {
        "id": "cxWwbkeW4Sug"
      }
    },
    {
      "cell_type": "markdown",
      "source": [
        "Conforme a la actividad, se realizará un **Sistema Experto para transporte masivo**\n",
        "\n",
        "El proyecto consistirá en desarrollar un sistema que determine la mejor ruta en un sistema de transporte masivo local utilizando datos cargados desde un archivo CSV"
      ],
      "metadata": {
        "id": "Ygcx4QJglfMX"
      }
    },
    {
      "cell_type": "markdown",
      "source": [
        "**1. Crear y Preparar el Archivo**\n",
        "\n",
        "El archivo CSV contiene los siguientes datos con las siguientes columnas:\n",
        "- Ciudad_Origen: Nombre de la estación de inicio.\n",
        "- Ciudad_Destino: Nombre de la estación de destino.\n",
        "- Distancia_km: Distancia entre las estaciones (en kilómetros).\n",
        "- Tiempo_min: Tiempo estimado para viajar entre las estaciones (en minutos).\n",
        "- Costo_COP: Costo del viaje en pesos colombianos.\n",
        "- Transbordos: Número de transbordos requeridos.\n",
        "- Disponible: Indica si la ruta está disponible"
      ],
      "metadata": {
        "id": "m7zQK89qyeXo"
      }
    },
    {
      "cell_type": "markdown",
      "source": [
        "**2. Cargar los Datos desde el Archivo**\n",
        "\n",
        "Utilizaremos pandas para cargar el archivo rutas.csv en un DataFrame y trabajar con los datos dinámicamente."
      ],
      "metadata": {
        "id": "yhPZJSiDzEto"
      }
    },
    {
      "cell_type": "code",
      "source": [
        "import pandas as pd\n",
        "\n",
        "raw_url = 'https://raw.githubusercontent.com/feliperamon1/Personal/main/rutas.csv'\n",
        "\n",
        "# Cargar el archivo CSV usando el raw URL\n",
        "rutas_df = pd.read_csv(raw_url)\n",
        "\n",
        "# Mostrar los datos cargados\n",
        "print(\"Datos de rutas cargados desde el archivo CSV:\")\n",
        "print(rutas_df)"
      ],
      "metadata": {
        "colab": {
          "base_uri": "https://localhost:8080/"
        },
        "id": "PrpqR07PzGsz",
        "outputId": "783fdad5-16ab-424d-c361-f4ff5e35a409"
      },
      "execution_count": 2,
      "outputs": [
        {
          "output_type": "stream",
          "name": "stdout",
          "text": [
            "Datos de rutas cargados desde el archivo CSV:\n",
            "  Ciudad_Origen Ciudad_Destino  Distancia_km  Tiempo_min  Costo_COP  \\\n",
            "0    Estación A     Estación B             5          10       2000   \n",
            "1    Estación A     Estación C            10          25       3000   \n",
            "2    Estación B     Estación C             7          15       1500   \n",
            "3    Estación B     Estación D            12          30       2500   \n",
            "4    Estación C     Estación D             8          20       2000   \n",
            "5    Estación C     Estación E            15          40       3500   \n",
            "6    Estación D     Estación E            20          50       4000   \n",
            "\n",
            "   Transbordos  Disponible  \n",
            "0            0        True  \n",
            "1            1        True  \n",
            "2            0        True  \n",
            "3            1        True  \n",
            "4            1       False  \n",
            "5            2        True  \n",
            "6            2        True  \n"
          ]
        }
      ]
    },
    {
      "cell_type": "markdown",
      "source": [
        "**3. Definir el Sistema Experto**\n",
        "\n",
        "Usamos el framework Experta para implementar la lógica del sistema experto.\n",
        "\n",
        "a. Definimos los hechos:\n",
        "- Ruta: Representa cada posible conexión entre dos estaciones.\n",
        "- Preferencias: Representa las preferencias del usuario (tiempo, costo, transbordos).\n",
        "\n",
        "b. Definimos las reglas:\n",
        "- Recomendaciones basadas en tiempo, costo, transbordos y disponibilidad."
      ],
      "metadata": {
        "id": "xL9NIUBwzpJG"
      }
    },
    {
      "cell_type": "code",
      "source": [
        "pip install experta\n"
      ],
      "metadata": {
        "collapsed": true,
        "colab": {
          "base_uri": "https://localhost:8080/"
        },
        "id": "2962y2RP0thy",
        "outputId": "4d84fabf-6321-46e8-ff23-9c741a5ea7d0"
      },
      "execution_count": 11,
      "outputs": [
        {
          "output_type": "stream",
          "name": "stdout",
          "text": [
            "Requirement already satisfied: experta in /usr/local/lib/python3.10/dist-packages (1.9.4)\n",
            "Requirement already satisfied: frozendict==1.2 in /usr/local/lib/python3.10/dist-packages (from experta) (1.2)\n",
            "Requirement already satisfied: schema==0.6.7 in /usr/local/lib/python3.10/dist-packages (from experta) (0.6.7)\n"
          ]
        }
      ]
    },
    {
      "cell_type": "code",
      "source": [
        "!python3 -m venv mi_entorno\n",
        "!source mi_entorno/bin/activate\n",
        "!pip install experta==1.9.4"
      ],
      "metadata": {
        "collapsed": true,
        "colab": {
          "base_uri": "https://localhost:8080/"
        },
        "id": "QJ6Jva1x1Rt7",
        "outputId": "536b0e3f-4aef-4ce9-db9f-16ddda2b2cd9"
      },
      "execution_count": 16,
      "outputs": [
        {
          "output_type": "stream",
          "name": "stdout",
          "text": [
            "The virtual environment was not created successfully because ensurepip is not\n",
            "available.  On Debian/Ubuntu systems, you need to install the python3-venv\n",
            "package using the following command.\n",
            "\n",
            "    apt install python3.10-venv\n",
            "\n",
            "You may need to use sudo with that command.  After installing the python3-venv\n",
            "package, recreate your virtual environment.\n",
            "\n",
            "Failing command: /content/mi_entorno/bin/python3\n",
            "\n",
            "/bin/bash: line 1: mi_entorno/bin/activate: No such file or directory\n",
            "Requirement already satisfied: experta==1.9.4 in /usr/local/lib/python3.10/dist-packages (1.9.4)\n",
            "Collecting frozendict==1.2 (from experta==1.9.4)\n",
            "  Using cached frozendict-1.2-py3-none-any.whl\n",
            "Requirement already satisfied: schema==0.6.7 in /usr/local/lib/python3.10/dist-packages (from experta==1.9.4) (0.6.7)\n",
            "Installing collected packages: frozendict\n",
            "  Attempting uninstall: frozendict\n",
            "    Found existing installation: frozendict 2.4.6\n",
            "    Uninstalling frozendict-2.4.6:\n",
            "      Successfully uninstalled frozendict-2.4.6\n",
            "\u001b[31mERROR: pip's dependency resolver does not currently take into account all the packages that are installed. This behaviour is the source of the following dependency conflicts.\n",
            "yfinance 0.2.49 requires frozendict>=2.3.4, but you have frozendict 1.2 which is incompatible.\u001b[0m\u001b[31m\n",
            "\u001b[0mSuccessfully installed frozendict-1.2\n"
          ]
        }
      ]
    },
    {
      "cell_type": "code",
      "source": [
        "!pip install --upgrade frozendict"
      ],
      "metadata": {
        "collapsed": true,
        "colab": {
          "base_uri": "https://localhost:8080/"
        },
        "id": "OpfjSZzQ07M8",
        "outputId": "c612b083-9adc-4fb2-cfe6-78ad4277da1e"
      },
      "execution_count": 17,
      "outputs": [
        {
          "output_type": "stream",
          "name": "stdout",
          "text": [
            "Requirement already satisfied: frozendict in /usr/local/lib/python3.10/dist-packages (1.2)\n",
            "Collecting frozendict\n",
            "  Using cached frozendict-2.4.6-cp310-cp310-manylinux_2_17_x86_64.manylinux2014_x86_64.whl.metadata (23 kB)\n",
            "Using cached frozendict-2.4.6-cp310-cp310-manylinux_2_17_x86_64.manylinux2014_x86_64.whl (117 kB)\n",
            "Installing collected packages: frozendict\n",
            "  Attempting uninstall: frozendict\n",
            "    Found existing installation: frozendict 1.2\n",
            "    Uninstalling frozendict-1.2:\n",
            "      Successfully uninstalled frozendict-1.2\n",
            "\u001b[31mERROR: pip's dependency resolver does not currently take into account all the packages that are installed. This behaviour is the source of the following dependency conflicts.\n",
            "experta 1.9.4 requires frozendict==1.2, but you have frozendict 2.4.6 which is incompatible.\u001b[0m\u001b[31m\n",
            "\u001b[0mSuccessfully installed frozendict-2.4.6\n"
          ]
        }
      ]
    },
    {
      "cell_type": "code",
      "source": [
        "from experta import *\n",
        "\n",
        "class Ruta(Fact):\n",
        "    \"\"\"\n",
        "    Representa una ruta entre dos estaciones en el sistema de transporte masivo.\n",
        "    \"\"\"\n",
        "    pass\n",
        "\n",
        "class Preferencias(Fact):\n",
        "    \"\"\"\n",
        "    Representa las preferencias del usuario para seleccionar la mejor ruta.\n",
        "    \"\"\"\n",
        "    pass\n",
        "\n",
        "class SistemaTransporteMasivo(KnowledgeEngine):\n",
        "    \"\"\"\n",
        "    Sistema experto que evalúa y recomienda rutas en el sistema de transporte masivo.\n",
        "    \"\"\"\n",
        "\n",
        "    @Rule(\n",
        "        Ruta(origen=MATCH.origen, destino=MATCH.destino, tiempo=P(lambda x: x <= 20)),\n",
        "        Preferencias(prioridad='tiempo')\n",
        "    )\n",
        "    def ruta_rapida(self, origen, destino):\n",
        "        print(f\"Recomendación: Use la ruta más rápida de {origen} a {destino} (<= 20 minutos).\")\n",
        "\n",
        "    @Rule(\n",
        "        Ruta(origen=MATCH.origen, destino=MATCH.destino, costo=P(lambda x: x <= 3000)),\n",
        "        Preferencias(prioridad='costo')\n",
        "    )\n",
        "    def ruta_economica(self, origen, destino):\n",
        "        print(f\"Recomendación: Use la ruta más económica de {origen} a {destino} (<= 3000 COP).\")\n",
        "\n",
        "    @Rule(\n",
        "        Ruta(origen=MATCH.origen, destino=MATCH.destino, transbordos=P(lambda x: x <= 1)),\n",
        "        Preferencias(prioridad='comodidad')\n",
        "    )\n",
        "    def ruta_con_menos_transbordos(self, origen, destino):\n",
        "        print(f\"Recomendación: Use la ruta con menos transbordos de {origen} a {destino} (<= 1 transbordo).\")\n",
        "\n",
        "    @Rule(\n",
        "        Ruta(origen=MATCH.origen, destino=MATCH.destino, disponible=False)\n",
        "    )\n",
        "    def ruta_no_disponible(self, origen, destino):\n",
        "        print(f\"Advertencia: La ruta de {origen} a {destino} no está disponible actualmente.\")\n"
      ],
      "metadata": {
        "id": "DGMlpjroz2S8"
      },
      "execution_count": 18,
      "outputs": []
    },
    {
      "cell_type": "markdown",
      "source": [
        "**4. Configurar y Ejecutar el Sistema**\n",
        "\n",
        "a. Cargar datos y crear el motor:\n",
        "- Declaramos cada ruta como un hecho.\n",
        "- Declaramos las preferencias del usuario.\n",
        "\n",
        "b. Ejecutar reglas:\n",
        "- Evaluamos cada ruta según las preferencias dadas."
      ],
      "metadata": {
        "id": "SGjl91LW1ebe"
      }
    },
    {
      "cell_type": "code",
      "source": [
        "# Crear el motor\n",
        "motor = SistemaTransporteMasivo()\n",
        "\n",
        "# Evaluar rutas cargadas desde el archivo CSV\n",
        "for _, ruta in rutas_df.iterrows():\n",
        "    motor.reset()\n",
        "    motor.declare(Ruta(\n",
        "        origen=ruta['Ciudad_Origen'],\n",
        "        destino=ruta['Ciudad_Destino'],\n",
        "        tiempo=ruta['Tiempo_min'],\n",
        "        costo=ruta['Costo_COP'],\n",
        "        transbordos=ruta['Transbordos'],\n",
        "        disponible=ruta['Disponible']\n",
        "    ))\n",
        "    motor.declare(Preferencias(prioridad='tiempo'))  # Cambia 'tiempo' a 'costo' o 'comodidad' según el caso\n",
        "    motor.run()\n"
      ],
      "metadata": {
        "colab": {
          "base_uri": "https://localhost:8080/"
        },
        "id": "q09JyhFF1qVK",
        "outputId": "fbe92682-d4f6-4ffe-97a5-a2478b66c635"
      },
      "execution_count": 19,
      "outputs": [
        {
          "output_type": "stream",
          "name": "stdout",
          "text": [
            "Recomendación: Use la ruta más rápida de Estación A a Estación B (<= 20 minutos).\n",
            "Recomendación: Use la ruta más rápida de Estación B a Estación C (<= 20 minutos).\n",
            "Recomendación: Use la ruta más rápida de Estación C a Estación D (<= 20 minutos).\n",
            "Advertencia: La ruta de Estación C a Estación D no está disponible actualmente.\n"
          ]
        }
      ]
    },
    {
      "cell_type": "markdown",
      "source": [
        "**5. Visualización Gráfica**\n",
        "\n",
        "Utilizamos NetworkX para representar las rutas gráficamente."
      ],
      "metadata": {
        "id": "kN0Fu2d_2W7w"
      }
    },
    {
      "cell_type": "code",
      "source": [
        "import networkx as nx\n",
        "import matplotlib.pyplot as plt\n",
        "\n",
        "def graficar_rutas(rutas_df):\n",
        "    G = nx.DiGraph()\n",
        "    for _, row in rutas_df.iterrows():\n",
        "        G.add_edge(row['Ciudad_Origen'], row['Ciudad_Destino'], weight=row['Tiempo_min'])\n",
        "\n",
        "    pos = nx.spring_layout(G)\n",
        "    nx.draw(G, pos, with_labels=True, node_size=3000, node_color=\"lightblue\", font_size=10)\n",
        "    edge_labels = nx.get_edge_attributes(G, 'weight')\n",
        "    nx.draw_networkx_edge_labels(G, pos, edge_labels=edge_labels)\n",
        "    plt.title(\"Mapa de Rutas del Sistema de Transporte Masivo\")\n",
        "    plt.show()\n",
        "\n",
        "# Visualizar rutas\n",
        "graficar_rutas(rutas_df)\n"
      ],
      "metadata": {
        "colab": {
          "base_uri": "https://localhost:8080/",
          "height": 539
        },
        "id": "P-XdeE982bTE",
        "outputId": "b067d33e-100f-44b3-a238-23da64e0dac6"
      },
      "execution_count": 20,
      "outputs": [
        {
          "output_type": "display_data",
          "data": {
            "text/plain": [
              "<Figure size 640x480 with 1 Axes>"
            ],
            "image/png": "[encoded data removed]"
          },
          "metadata": {}
        }
      ]
    },
    {
      "cell_type": "markdown",
      "source": [
        "**6. Implementación de un Algoritmo de Optimización (Dijkstra)**\n",
        "\n",
        "Usaremos NetworkX para encontrar la ruta más corta basándonos en tiempo o costo."
      ],
      "metadata": {
        "id": "uCGklbun2ph2"
      }
    },
    {
      "cell_type": "code",
      "source": [
        "import networkx as nx\n",
        "\n",
        "def construir_grafo(rutas_df, criterio='Tiempo_min'):\n",
        "    \"\"\"\n",
        "    Construye un grafo dirigido a partir de las rutas y elige un criterio como peso.\n",
        "    \"\"\"\n",
        "    G = nx.DiGraph()\n",
        "    for _, row in rutas_df.iterrows():\n",
        "        if row['Disponible']:  # Solo incluir rutas disponibles\n",
        "            G.add_edge(row['Ciudad_Origen'], row['Ciudad_Destino'], weight=row[criterio])\n",
        "    return G\n",
        "\n",
        "def encontrar_mejor_ruta(origen, destino, grafo):\n",
        "    \"\"\"\n",
        "    Encuentra la mejor ruta entre origen y destino usando el grafo.\n",
        "    \"\"\"\n",
        "    try:\n",
        "        ruta = nx.shortest_path(grafo, source=origen, target=destino, weight='weight')\n",
        "        costo = nx.shortest_path_length(grafo, source=origen, target=destino, weight='weight')\n",
        "        return ruta, costo\n",
        "    except nx.NetworkXNoPath:\n",
        "        return None, None\n",
        "\n",
        "# Construir el grafo\n",
        "grafo = construir_grafo(rutas_df, criterio='Tiempo_min')\n",
        "\n",
        "# Encontrar la mejor ruta\n",
        "origen, destino = \"Estación A\", \"Estación E\"\n",
        "ruta, costo = encontrar_mejor_ruta(origen, destino, grafo)\n",
        "if ruta:\n",
        "    print(f\"Mejor ruta basada en tiempo: {' -> '.join(ruta)} con un costo de {costo} minutos\")\n",
        "else:\n",
        "    print(f\"No se encontró una ruta entre {origen} y {destino}.\")\n"
      ],
      "metadata": {
        "colab": {
          "base_uri": "https://localhost:8080/"
        },
        "id": "Xn3QKPHv2lWK",
        "outputId": "45b629e5-eb42-4956-933b-7914347b1b8f"
      },
      "execution_count": 22,
      "outputs": [
        {
          "output_type": "stream",
          "name": "stdout",
          "text": [
            "Mejor ruta basada en tiempo: Estación A -> Estación C -> Estación E con un costo de 65 minutos\n"
          ]
        }
      ]
    },
    {
      "cell_type": "markdown",
      "source": [
        "**7. Visualización del Algoritmo Dijkstra**\n",
        "\n",
        "Usaremos NetworkX y Matplotlib para dibujar el grafo con la ruta más corta resaltada."
      ],
      "metadata": {
        "id": "n_1grHHG2-ox"
      }
    },
    {
      "cell_type": "code",
      "source": [
        "import matplotlib.pyplot as plt\n",
        "\n",
        "# Construcción del Grafo\n",
        "def construir_grafo(rutas_df, criterio='Tiempo_min'):\n",
        "    \"\"\"\n",
        "    Construye un grafo dirigido a partir de las rutas y elige un criterio como peso.\n",
        "    \"\"\"\n",
        "    G = nx.DiGraph()\n",
        "    for _, row in rutas_df.iterrows():\n",
        "        if row['Disponible']:  # Solo incluir rutas disponibles\n",
        "            G.add_edge(row['Ciudad_Origen'], row['Ciudad_Destino'], weight=row[criterio])\n",
        "    return G\n",
        "\n",
        "# Visualización del Grafo y Resaltado de la Ruta Óptima\n",
        "def visualizar_ruta_dijkstra(origen, destino, grafo):\n",
        "    \"\"\"\n",
        "    Visualiza el grafo completo y resalta la ruta más corta calculada con Dijkstra.\n",
        "    \"\"\"\n",
        "    try:\n",
        "        # Ruta más corta basada en Dijkstra\n",
        "        ruta_optima = nx.shortest_path(grafo, source=origen, target=destino, weight='weight')\n",
        "        peso_total = nx.shortest_path_length(grafo, source=origen, target=destino, weight='weight')\n",
        "\n",
        "        # Configuración del grafo para la visualización\n",
        "        pos = nx.spring_layout(grafo)\n",
        "        plt.figure(figsize=(10, 8))\n",
        "\n",
        "        # Dibujar el grafo completo\n",
        "        nx.draw(grafo, pos, with_labels=True, node_size=3000, node_color=\"lightgray\", font_size=10, font_weight=\"bold\")\n",
        "\n",
        "        # Resaltar la ruta óptima\n",
        "        edges_optima = list(zip(ruta_optima[:-1], ruta_optima[1:]))\n",
        "        nx.draw_networkx_edges(grafo, pos, edgelist=edges_optima, edge_color='red', width=2)\n",
        "\n",
        "        # Añadir etiquetas de peso\n",
        "        edge_labels = nx.get_edge_attributes(grafo, 'weight')\n",
        "        nx.draw_networkx_edge_labels(grafo, pos, edge_labels=edge_labels)\n",
        "\n",
        "        # Mostrar resultados\n",
        "        plt.title(f\"Ruta óptima: {' -> '.join(ruta_optima)} (Peso total: {peso_total})\", fontsize=14)\n",
        "        plt.show()\n",
        "\n",
        "    except nx.NetworkXNoPath:\n",
        "        print(f\"No se encontró una ruta entre {origen} y {destino}.\")\n",
        "\n",
        "# Crear datos simulados de rutas\n",
        "import pandas as pd\n",
        "\n",
        "rutas_df = pd.DataFrame({\n",
        "    'Ciudad_Origen': ['Estación A', 'Estación A', 'Estación B', 'Estación B', 'Estación C', 'Estación C', 'Estación D'],\n",
        "    'Ciudad_Destino': ['Estación B', 'Estación C', 'Estación C', 'Estación D', 'Estación D', 'Estación E', 'Estación E'],\n",
        "    'Distancia_km': [5, 10, 7, 12, 8, 15, 20],\n",
        "    'Tiempo_min': [10, 25, 15, 30, 20, 40, 50],\n",
        "    'Costo_COP': [2000, 3000, 1500, 2500, 2000, 3500, 4000],\n",
        "    'Transbordos': [0, 1, 0, 1, 1, 2, 2],\n",
        "    'Disponible': [True, True, True, True, False, True, True]\n",
        "})\n",
        "\n",
        "# Construir el grafo\n",
        "grafo = construir_grafo(rutas_df, criterio='Tiempo_min')\n",
        "\n",
        "# Visualizar la ruta óptima entre dos estaciones\n",
        "visualizar_ruta_dijkstra(\"Estación A\", \"Estación E\", grafo)\n"
      ],
      "metadata": {
        "colab": {
          "base_uri": "https://localhost:8080/",
          "height": 861
        },
        "id": "eOroQx1O3DDU",
        "outputId": "6cb8ce6f-fbc9-48d8-dd32-fa7102a126b1"
      },
      "execution_count": 24,
      "outputs": [
        {
          "output_type": "display_data",
          "data": {
            "text/plain": [
              "<Figure size 1000x800 with 1 Axes>"
            ],
            "image/png": "[encoded data removed]"
          },
          "metadata": {}
        }
      ]
    },
    {
      "cell_type": "markdown",
      "source": [
        "**8. Interfaz Interactiva**\n",
        "\n",
        "Desarrollaremos una interfaz gráfica para que el usuario pueda seleccionar su origen, destino y preferencia de criterio (tiempo o costo)."
      ],
      "metadata": {
        "id": "ej1pJQy43LfP"
      }
    },
    {
      "cell_type": "code",
      "source": [
        "import ipywidgets as widgets\n",
        "from IPython.display import display\n",
        "import networkx as nx\n",
        "import pandas as pd\n",
        "\n",
        "# Crear datos simulados de rutas\n",
        "rutas_df = pd.DataFrame({\n",
        "    'Ciudad_Origen': ['Estación A', 'Estación A', 'Estación B', 'Estación B', 'Estación C', 'Estación C', 'Estación D'],\n",
        "    'Ciudad_Destino': ['Estación B', 'Estación C', 'Estación C', 'Estación D', 'Estación D', 'Estación E', 'Estación E'],\n",
        "    'Tiempo_min': [10, 25, 15, 30, 20, 40, 50],\n",
        "    'Costo_COP': [2000, 3000, 1500, 2500, 2000, 3500, 4000],\n",
        "    'Disponible': [True, True, True, True, False, True, True]\n",
        "})\n",
        "\n",
        "# Construcción del grafo\n",
        "def construir_grafo(rutas_df, criterio='Tiempo_min'):\n",
        "    \"\"\"\n",
        "    Construye un grafo dirigido a partir de las rutas y elige un criterio como peso.\n",
        "    \"\"\"\n",
        "    G = nx.DiGraph()\n",
        "    for _, row in rutas_df.iterrows():\n",
        "        if row['Disponible']:\n",
        "            G.add_edge(row['Ciudad_Origen'], row['Ciudad_Destino'], weight=row[criterio])\n",
        "    return G\n",
        "\n",
        "grafo = construir_grafo(rutas_df)\n",
        "\n",
        "# Listas desplegables con opciones dinámicas\n",
        "origen = widgets.Dropdown(options=rutas_df['Ciudad_Origen'].unique(), description=\"Origen:\")\n",
        "destino = widgets.Dropdown(options=rutas_df['Ciudad_Destino'].unique(), description=\"Destino:\")\n",
        "criterio = widgets.Dropdown(options=[\"Tiempo_min\", \"Costo_COP\"], description=\"Criterio:\")\n",
        "boton = widgets.Button(description=\"Buscar Ruta\")\n",
        "\n",
        "# Resultado\n",
        "resultado = widgets.Output()\n",
        "\n",
        "# Acción del botón\n",
        "def buscar_ruta(b):\n",
        "    with resultado:\n",
        "        resultado.clear_output()\n",
        "        try:\n",
        "            ruta_optima = nx.shortest_path(grafo, source=origen.value, target=destino.value, weight='weight')\n",
        "            peso_total = nx.shortest_path_length(grafo, source=origen.value, target=destino.value, weight='weight')\n",
        "            print(f\"Mejor ruta: {' -> '.join(ruta_optima)}\")\n",
        "            print(f\"Peso total ({criterio.value}): {peso_total}\")\n",
        "        except nx.NetworkXNoPath:\n",
        "            print(\"No se encontró una ruta válida entre las estaciones seleccionadas.\")\n",
        "\n",
        "boton.on_click(buscar_ruta)\n",
        "\n",
        "# Mostrar widgets\n",
        "display(origen, destino, criterio, boton, resultado)\n"
      ],
      "metadata": {
        "colab": {
          "base_uri": "https://localhost:8080/",
          "height": 176,
          "referenced_widgets": [
            "d62f5d8ff1894ef8821ec733f1421f85",
            "a470224bf5de4be9abea01b8db3d687c",
            "ae8c5c7ba7df44138562c0da8664c710",
            "01203144ba59454e81639c6049a64a01",
            "c107919fadce4007be5f860fe4dbf4f4",
            "b3c482ccb78b4bb19271ffdcd2363598",
            "67e39f866ae8418581948689fd5e762b",
            "5bdb7e5c63bc43b68742864f7cda6014",
            "260dab9c59974198bef5f5b446fa938f",
            "e40a19910eb64326ac2bfba376e2333f",
            "22334671160c4b00823a1ace98d71aa5",
            "6e805f1f9b6a4b29b2f0ba9e58dfd150",
            "0d907512a6a1435dace505209688bf9e",
            "ea58bbe35be94a6491cad130c5937a10"
          ]
        },
        "id": "Iz2wCpMj4Jfe",
        "outputId": "b493ad27-d640-4521-de5f-b692ba721618"
      },
      "execution_count": 28,
      "outputs": [
        {
          "output_type": "display_data",
          "data": {
            "text/plain": [
              "Dropdown(description='Origen:', options=('Estación A', 'Estación B', 'Estación C', 'Estación D'), value='Estac…"
            ],
            "application/vnd.jupyter.widget-view+json": {
              "version_major": 2,
              "version_minor": 0,
              "model_id": "d62f5d8ff1894ef8821ec733f1421f85"
            }
          },
          "metadata": {}
        },
        {
          "output_type": "display_data",
          "data": {
            "text/plain": [
              "Dropdown(description='Destino:', options=('Estación B', 'Estación C', 'Estación D', 'Estación E'), value='Esta…"
            ],
            "application/vnd.jupyter.widget-view+json": {
              "version_major": 2,
              "version_minor": 0,
              "model_id": "01203144ba59454e81639c6049a64a01"
            }
          },
          "metadata": {}
        },
        {
          "output_type": "display_data",
          "data": {
            "text/plain": [
              "Dropdown(description='Criterio:', options=('Tiempo_min', 'Costo_COP'), value='Tiempo_min')"
            ],
            "application/vnd.jupyter.widget-view+json": {
              "version_major": 2,
              "version_minor": 0,
              "model_id": "67e39f866ae8418581948689fd5e762b"
            }
          },
          "metadata": {}
        },
        {
          "output_type": "display_data",
          "data": {
            "text/plain": [
              "Button(description='Buscar Ruta', style=ButtonStyle())"
            ],
            "application/vnd.jupyter.widget-view+json": {
              "version_major": 2,
              "version_minor": 0,
              "model_id": "e40a19910eb64326ac2bfba376e2333f"
            }
          },
          "metadata": {}
        },
        {
          "output_type": "display_data",
          "data": {
            "text/plain": [
              "Output()"
            ],
            "application/vnd.jupyter.widget-view+json": {
              "version_major": 2,
              "version_minor": 0,
              "model_id": "0d907512a6a1435dace505209688bf9e"
            }
          },
          "metadata": {}
        }
      ]
    }
  ]
}